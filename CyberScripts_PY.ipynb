{
  "nbformat": 4,
  "nbformat_minor": 0,
  "metadata": {
    "colab": {
      "provenance": [],
      "authorship_tag": "ABX9TyMG1ZaVb7fgeDBjRBtrj7Uy",
      "include_colab_link": true
    },
    "kernelspec": {
      "name": "python3",
      "display_name": "Python 3"
    },
    "language_info": {
      "name": "python"
    }
  },
  "cells": [
    {
      "cell_type": "markdown",
      "metadata": {
        "id": "view-in-github",
        "colab_type": "text"
      },
      "source": [
        "<a href=\"https://colab.research.google.com/github/chatala1/Cyber-Automation/blob/main/CyberScripts_PY.ipynb\" target=\"_parent\"><img src=\"https://colab.research.google.com/assets/colab-badge.svg\" alt=\"Open In Colab\"/></a>"
      ]
    },
    {
      "cell_type": "markdown",
      "source": [
        "Python Scripts for Cybersecurity Professionals"
      ],
      "metadata": {
        "id": "C22bPniAlX7X"
      }
    },
    {
      "cell_type": "markdown",
      "source": [
        "Create a script that expands short URLs within emails and checks them against reputation databases to determine if they are safe to access.\n"
      ],
      "metadata": {
        "id": "2CYj-nSUlf8G"
      }
    },
    {
      "cell_type": "code",
      "source": [
        "!pip install requests"
      ],
      "metadata": {
        "colab": {
          "base_uri": "https://localhost:8080/"
        },
        "id": "PrBaM6G-lnpi",
        "outputId": "dbf1723b-47bd-49a0-e8b1-aaf96efd9b6a"
      },
      "execution_count": 1,
      "outputs": [
        {
          "output_type": "stream",
          "name": "stdout",
          "text": [
            "Requirement already satisfied: requests in /usr/local/lib/python3.10/dist-packages (2.31.0)\n",
            "Requirement already satisfied: charset-normalizer<4,>=2 in /usr/local/lib/python3.10/dist-packages (from requests) (3.2.0)\n",
            "Requirement already satisfied: idna<4,>=2.5 in /usr/local/lib/python3.10/dist-packages (from requests) (3.4)\n",
            "Requirement already satisfied: urllib3<3,>=1.21.1 in /usr/local/lib/python3.10/dist-packages (from requests) (2.0.4)\n",
            "Requirement already satisfied: certifi>=2017.4.17 in /usr/local/lib/python3.10/dist-packages (from requests) (2023.7.22)\n"
          ]
        }
      ]
    },
    {
      "cell_type": "code",
      "source": [
        "import requests\n",
        "\n",
        "def expand_url(short_url):\n",
        "    try:\n",
        "        response = requests.head(short_url, allow_redirects=True)\n",
        "        return response.url\n",
        "    except requests.exceptions.RequestException:\n",
        "        return None\n",
        "\n",
        "def check_reputation(url):\n",
        "    urlscan_api_url = f\"https://urlscan.io/api/v1/search/?q=page.url:{url}\"\n",
        "    response = requests.get(urlscan_api_url)\n",
        "    data = response.json()\n",
        "\n",
        "    if \"results\" in data and len(data[\"results\"]) > 0:\n",
        "        result = data[\"results\"][0]\n",
        "        verdict = result[\"verdicts\"][\"overall\"]\n",
        "        if verdict == \"clean\":\n",
        "            return True\n",
        "    return False\n",
        "\n",
        "def main():\n",
        "    short_url = input(\"Enter the short URL: \")\n",
        "\n",
        "    expanded_url = expand_url(short_url)\n",
        "    if expanded_url:\n",
        "        print(\"Expanded URL:\", expanded_url)\n",
        "        is_safe = check_reputation(expanded_url)\n",
        "        if is_safe:\n",
        "            print(\"The URL is safe.\")\n",
        "        else:\n",
        "            print(\"The URL is potentially unsafe. Proceed with Caution.\")\n",
        "    else:\n",
        "        print(\"Failed to expand the URL.\")\n",
        "\n",
        "if __name__ == \"__main__\":\n",
        "    main()\n"
      ],
      "metadata": {
        "colab": {
          "base_uri": "https://localhost:8080/"
        },
        "id": "ue0A_16Xlqjr",
        "outputId": "1e98c15b-8a2c-4393-a0f5-d58baae6bd48"
      },
      "execution_count": 3,
      "outputs": [
        {
          "output_type": "stream",
          "name": "stdout",
          "text": [
            "Enter the short URL: https://shorturl.at/lBF24\n",
            "Expanded URL: https://edition.cnn.com/\n",
            "The URL is potentially unsafe. Proceed with Caution.\n"
          ]
        }
      ]
    },
    {
      "cell_type": "markdown",
      "source": [
        "Python script to automate the process of encrypting and decrypting sensitive emails using the cryptography library for encryption and the gnupg library for decryption. This example assumes that you have the necessary keys and configuration in place for encryption and decryption."
      ],
      "metadata": {
        "id": "MSGvTUdhmZgt"
      }
    },
    {
      "cell_type": "code",
      "source": [
        "!pip install cryptography python-gnupg"
      ],
      "metadata": {
        "colab": {
          "base_uri": "https://localhost:8080/"
        },
        "id": "Q9EW2cMgmdjE",
        "outputId": "f2e2f47d-44bb-4242-8050-7ab2c19d24da"
      },
      "execution_count": 4,
      "outputs": [
        {
          "output_type": "stream",
          "name": "stdout",
          "text": [
            "Requirement already satisfied: cryptography in /usr/local/lib/python3.10/dist-packages (41.0.3)\n",
            "Collecting python-gnupg\n",
            "  Downloading python_gnupg-0.5.1-py2.py3-none-any.whl (20 kB)\n",
            "Requirement already satisfied: cffi>=1.12 in /usr/local/lib/python3.10/dist-packages (from cryptography) (1.15.1)\n",
            "Requirement already satisfied: pycparser in /usr/local/lib/python3.10/dist-packages (from cffi>=1.12->cryptography) (2.21)\n",
            "Installing collected packages: python-gnupg\n",
            "Successfully installed python-gnupg-0.5.1\n"
          ]
        }
      ]
    },
    {
      "cell_type": "code",
      "source": [
        "from cryptography.fernet import Fernet\n",
        "import gnupg\n",
        "\n",
        "def generate_encryption_key():\n",
        "    return Fernet.generate_key()\n",
        "\n",
        "def encrypt_message(message, encryption_key):\n",
        "    fernet = Fernet(encryption_key)\n",
        "    encrypted_message = fernet.encrypt(message.encode())\n",
        "    return encrypted_message\n",
        "\n",
        "def decrypt_message(encrypted_message, encryption_key):\n",
        "    fernet = Fernet(encryption_key)\n",
        "    decrypted_message = fernet.decrypt(encrypted_message).decode()\n",
        "    return decrypted_message\n",
        "\n",
        "def main():\n",
        "    encryption_key = generate_encryption_key()\n",
        "\n",
        "    choice = input(\"Select an option (encrypt/decrypt): \").lower()\n",
        "\n",
        "    if choice == \"encrypt\":\n",
        "        message = input(\"Enter the message to encrypt: \")\n",
        "        encrypted_message = encrypt_message(message, encryption_key)\n",
        "        print(\"Encrypted Message:\", encrypted_message)\n",
        "    elif choice == \"decrypt\":\n",
        "        encrypted_message = input(\"Enter the encrypted message: \")\n",
        "        decrypted_message = decrypt_message(encrypted_message.encode(), encryption_key)\n",
        "        print(\"Decrypted Message:\", decrypted_message)\n",
        "    else:\n",
        "        print(\"Invalid option.\")\n",
        "\n",
        "if __name__ == \"__main__\":\n",
        "    main()\n"
      ],
      "metadata": {
        "colab": {
          "base_uri": "https://localhost:8080/"
        },
        "id": "6WL9JOWama7h",
        "outputId": "a6a37ec4-12f0-43b4-f71f-da8de011a5ea"
      },
      "execution_count": 6,
      "outputs": [
        {
          "output_type": "stream",
          "name": "stdout",
          "text": [
            "Select an option (encrypt/decrypt): encrypt\n",
            "Enter the message to encrypt: My noodle is cock-a-doodle, like a clock im cuckoo.\n",
            "Encrypted Message: b'gAAAAABk8U8FEN4IKkIeJw_j-QqHLlCH-G9sA978TW8PYLHA70S5tW4xprEf2i3zL8cdIWyET6J6LuamA_v4DGjT3DVR6Sv1Vbr0mzk7yUVzX9NWhO7zaUA2WOOYA8hgVZuTyZ413JIXmqs5jOdDFHo75GzJ6BlXWQ=='\n"
          ]
        }
      ]
    },
    {
      "cell_type": "markdown",
      "source": [
        "Email header analysis, check for spoofing"
      ],
      "metadata": {
        "id": "Ta_xkIkyncAv"
      }
    },
    {
      "cell_type": "code",
      "source": [
        "import re\n",
        "import email\n",
        "\n",
        "def extract_email_headers(raw_email):\n",
        "    msg = email.message_from_string(raw_email)\n",
        "    return msg.items()\n",
        "\n",
        "def analyze_email_headers(headers):\n",
        "    sender = None\n",
        "    received_from_domains = []\n",
        "\n",
        "    for key, value in headers:\n",
        "        if key.lower() == 'from':\n",
        "            sender = re.search(r'<([^>]+)>', value).group(1)\n",
        "        elif key.lower() == 'received':\n",
        "            match = re.search(r'from ([^ ]+)', value)\n",
        "            if match:\n",
        "                received_from_domains.append(match.group(1))\n",
        "\n",
        "    return sender, received_from_domains\n",
        "\n",
        "def detect_email_spoofing(sender, received_from_domains):\n",
        "    if sender and received_from_domains:\n",
        "        sender_domain = sender.split('@')[1]\n",
        "        for domain in received_from_domains:\n",
        "            if domain != sender_domain:\n",
        "                return True\n",
        "    return False\n",
        "\n",
        "def main():\n",
        "    raw_email = \"\"\"\n",
        "    From: John Doe <johndoe@example.com>\n",
        "    Received: from mail.example.com by mailserver.internal.net;\n",
        "               Tue, 31 Aug 2023 12:00:00 +0000\n",
        "    \"\"\"\n",
        "\n",
        "    headers = extract_email_headers(raw_email)\n",
        "    sender, received_from_domains = analyze_email_headers(headers)\n",
        "\n",
        "    if detect_email_spoofing(sender, received_from_domains):\n",
        "        print(\"Warning: Email spoofing detected!\")\n",
        "    else:\n",
        "        print(\"Email headers appear legitimate.\")\n",
        "\n",
        "if __name__ == \"__main__\":\n",
        "    main()\n"
      ],
      "metadata": {
        "colab": {
          "base_uri": "https://localhost:8080/"
        },
        "id": "yBmsTREPnehO",
        "outputId": "0f70371b-5c9e-45d8-be82-c5cd4564487d"
      },
      "execution_count": 7,
      "outputs": [
        {
          "output_type": "stream",
          "name": "stdout",
          "text": [
            "Email headers appear legitimate.\n"
          ]
        }
      ]
    },
    {
      "cell_type": "markdown",
      "source": [
        "NON API Version"
      ],
      "metadata": {
        "id": "z1Fg35RSoKuS"
      }
    },
    {
      "cell_type": "code",
      "source": [
        "import re\n",
        "import email\n",
        "\n",
        "def extract_email_headers(raw_email):\n",
        "    msg = email.message_from_string(raw_email)\n",
        "    return msg.items()\n",
        "\n",
        "def analyze_email_headers(headers):\n",
        "    sender = None\n",
        "    received_from_domains = []\n",
        "\n",
        "    for key, value in headers:\n",
        "        if key.lower() == 'from':\n",
        "            sender = re.search(r'<([^>]+)>', value).group(1)\n",
        "        elif key.lower() == 'received':\n",
        "            match = re.search(r'from ([^ ]+)', value)\n",
        "            if match:\n",
        "                received_from_domains.append(match.group(1))\n",
        "\n",
        "    return sender, received_from_domains\n",
        "\n",
        "def detect_email_spoofing(sender, received_from_domains):\n",
        "    if sender and received_from_domains:\n",
        "        sender_domain = sender.split('@')[1]\n",
        "        for domain in received_from_domains:\n",
        "            if domain != sender_domain:\n",
        "                return True\n",
        "    return False\n",
        "\n",
        "def main():\n",
        "    raw_email = input(\"Enter the raw email headers: \")\n",
        "\n",
        "    headers = extract_email_headers(raw_email)\n",
        "    sender, received_from_domains = analyze_email_headers(headers)\n",
        "\n",
        "    if detect_email_spoofing(sender, received_from_domains):\n",
        "        print(\"Warning: Email spoofing detected!\")\n",
        "    else:\n",
        "        print(\"Email headers appear legitimate.\")\n",
        "\n",
        "if __name__ == \"__main__\":\n",
        "    main()\n"
      ],
      "metadata": {
        "colab": {
          "base_uri": "https://localhost:8080/"
        },
        "id": "o4UiPXbSoMjw",
        "outputId": "09ba98b0-d62f-4ddc-c5ec-a6c89f26608b"
      },
      "execution_count": 8,
      "outputs": [
        {
          "output_type": "stream",
          "name": "stdout",
          "text": [
            "Enter the raw email headers: From: John Doe <johndoe@example.com>     Received: from mail.example.com by mailserver.internal.net;                Tue, 31 Aug 2023 12:00:00 +0000\n",
            "Email headers appear legitimate.\n"
          ]
        }
      ]
    },
    {
      "cell_type": "markdown",
      "source": [
        "Analyzing email headers, URLs, and attachments to identify potential phishing attempts. Libraries like pyzmail and urlscan.io API can assist in extracting and analyzing email content."
      ],
      "metadata": {
        "id": "mN0bNS_hosld"
      }
    },
    {
      "cell_type": "markdown",
      "source": [
        "Use this RAW test data:\n",
        "\n",
        "From: John Doe <johndoe@example.com>\n",
        "To: Jane Smith <janesmith@example.com>\n",
        "Subject: Important Information\n",
        "\n",
        "Date: Tue, 31 Aug 2023 12:00:00 +0000\n",
        "Received: from mail.example.com by mailserver.internal.net;\n",
        "               Tue, 31 Aug 2023 12:00:00 +0000\n",
        "\n",
        "Hello Jane,\n",
        "\n",
        "Please review the attached document for important information.\n",
        "\n",
        "Best regards,\n",
        "John Doe\n",
        "\n",
        "--Boundary12345\n",
        "Content-Type: application/pdf\n",
        "Content-Disposition: attachment; filename=\"document.pdf\"\n",
        "Content-Transfer-Encoding: base64\n",
        "\n",
        "JVBERi0xLjUKJeLjz9MKMSAwIG9iago8PC9MZW5ndGggMTkxL0ZpbHRlci9GbGF0ZURlY29kZT4+CnN0\n",
        "YXJ0eHJlZgolJUVPRg==\n",
        "--Boundary12345--\n"
      ],
      "metadata": {
        "id": "Aem0S05Lp-CX"
      }
    },
    {
      "cell_type": "code",
      "source": [
        "import re\n",
        "import email\n",
        "import requests\n",
        "\n",
        "def extract_email_headers(raw_email):\n",
        "    msg = email.message_from_string(raw_email)\n",
        "    return msg.items()\n",
        "\n",
        "def extract_urls_from_email(raw_email):\n",
        "    urls = []\n",
        "    msg = email.message_from_string(raw_email)\n",
        "\n",
        "    for part in msg.walk():\n",
        "        content_type = part.get_content_type()\n",
        "        if content_type == \"text/html\":\n",
        "            urls.extend(re.findall(r'http[s]?://(?:[a-zA-Z]|[0-9]|[$-_@.&+]|[!*\\\\(\\\\),]|(?:%[0-9a-fA-F][0-9a-fA-F]))+', part.get_payload()))\n",
        "\n",
        "    return urls\n",
        "\n",
        "def analyze_url(url):\n",
        "    urlscan_api_url = f\"https://urlscan.io/api/v1/search/?q=page.url:{url}\"\n",
        "    response = requests.get(urlscan_api_url)\n",
        "    data = response.json()\n",
        "\n",
        "    if \"results\" in data and len(data[\"results\"]) > 0:\n",
        "        result = data[\"results\"][0]\n",
        "        verdict = result[\"verdicts\"][\"overall\"]\n",
        "        return verdict\n",
        "    return \"Unknown\"\n",
        "\n",
        "def main():\n",
        "    raw_email = input(\"Enter the raw email content: \")\n",
        "\n",
        "    headers = extract_email_headers(raw_email)\n",
        "    urls = extract_urls_from_email(raw_email)\n",
        "\n",
        "    print(\"Email Headers:\")\n",
        "    for key, value in headers:\n",
        "        print(f\"{key}: {value}\")\n",
        "\n",
        "    print(\"\\nExtracted URLs:\")\n",
        "    for url in urls:\n",
        "        print(url)\n",
        "        verdict = analyze_url(url)\n",
        "        print(f\"URL Verdict: {verdict}\\n\")\n",
        "\n",
        "if __name__ == \"__main__\":\n",
        "    main()\n"
      ],
      "metadata": {
        "colab": {
          "base_uri": "https://localhost:8080/"
        },
        "id": "Ht3kUkZFo3d-",
        "outputId": "e71b31aa-6570-493d-fc42-cb3e71fa1e68"
      },
      "execution_count": 13,
      "outputs": [
        {
          "output_type": "stream",
          "name": "stdout",
          "text": [
            "Enter the raw email content: From: John Doe <johndoe@example.com> To: Jane Smith <janesmith@example.com> Subject: Important Information  Date: Tue, 31 Aug 2023 12:00:00 +0000 Received: from mail.example.com by mailserver.internal.net;                Tue, 31 Aug 2023 12:00:00 +0000  Hello Jane,  Please review the attached document for important information.  Best regards, John Doe  --Boundary12345 Content-Type: application/pdf Content-Disposition: attachment; filename=\"document.pdf\" Content-Transfer-Encoding: base64  JVBERi0xLjUKJeLjz9MKMSAwIG9iago8PC9MZW5ndGggMTkxL0ZpbHRlci9GbGF0ZURlY29kZT4+CnN0 YXJ0eHJlZgolJUVPRg== --Boundary12345--\n",
            "Email Headers:\n",
            "From: John Doe <johndoe@example.com> To: Jane Smith <janesmith@example.com> Subject: Important Information  Date: Tue, 31 Aug 2023 12:00:00 +0000 Received: from mail.example.com by mailserver.internal.net;                Tue, 31 Aug 2023 12:00:00 +0000  Hello Jane,  Please review the attached document for important information.  Best regards, John Doe  --Boundary12345 Content-Type: application/pdf Content-Disposition: attachment; filename=\"document.pdf\" Content-Transfer-Encoding: base64  JVBERi0xLjUKJeLjz9MKMSAwIG9iago8PC9MZW5ndGggMTkxL0ZpbHRlci9GbGF0ZURlY29kZT4+CnN0 YXJ0eHJlZgolJUVPRg== --Boundary12345--\n",
            "\n",
            "Extracted URLs:\n"
          ]
        }
      ]
    },
    {
      "cell_type": "markdown",
      "source": [
        "Python script that generates an automated email security report. This script generates a simple summary of blocked phishing attempts, SPAM emails, and other security-related metrics. You can customize it to include more detailed information and metrics as needed."
      ],
      "metadata": {
        "id": "H061KY3rqi5S"
      }
    },
    {
      "cell_type": "code",
      "source": [
        "import smtplib\n",
        "from email.mime.text import MIMEText\n",
        "\n",
        "def generate_security_report():\n",
        "    # Simulated security metrics\n",
        "    blocked_phishing_attempts = 5\n",
        "    spam_emails = 10\n",
        "    malware_detected = 2\n",
        "    suspicious_links = 3\n",
        "\n",
        "    report = f\"Automated Email Security Report\\n\\n\" \\\n",
        "             f\"Blocked Phishing Attempts: {blocked_phishing_attempts}\\n\" \\\n",
        "             f\"SPAM Emails Detected: {spam_emails}\\n\" \\\n",
        "             f\"Malware Detected: {malware_detected}\\n\" \\\n",
        "             f\"Suspicious Links: {suspicious_links}\\n\"\n",
        "\n",
        "    return report\n",
        "\n",
        "def send_email_report(report):\n",
        "    sender_email = \"your_email@example.com\"\n",
        "    sender_password = \"your_email_password\"\n",
        "    recipient_email = \"recipient@example.com\"\n",
        "\n",
        "    subject = \"Automated Email Security Report\"\n",
        "    msg = MIMEText(report)\n",
        "    msg[\"Subject\"] = subject\n",
        "    msg[\"From\"] = sender_email\n",
        "    msg[\"To\"] = recipient_email\n",
        "\n",
        "    try:\n",
        "        server = smtplib.SMTP(\"smtp.example.com\", 587)  # Replace with your SMTP server and port\n",
        "        server.starttls()\n",
        "        server.login(sender_email, sender_password)\n",
        "        server.sendmail(sender_email, recipient_email, msg.as_string())\n",
        "        server.quit()\n",
        "        print(\"Email security report sent successfully.\")\n",
        "    except Exception as e:\n",
        "        print(\"Error sending email:\", str(e))\n",
        "\n",
        "def main():\n",
        "    security_report = generate_security_report()\n",
        "    send_email_report(security_report)\n",
        "\n",
        "if __name__ == \"__main__\":\n",
        "    main()\n"
      ],
      "metadata": {
        "colab": {
          "base_uri": "https://localhost:8080/"
        },
        "id": "eLP5G6TEqj-X",
        "outputId": "4900be56-32b3-4012-c7a2-b71423389fd4"
      },
      "execution_count": 14,
      "outputs": [
        {
          "output_type": "stream",
          "name": "stdout",
          "text": [
            "Error sending email: [Errno -2] Name or service not known\n"
          ]
        }
      ]
    }
  ]
}